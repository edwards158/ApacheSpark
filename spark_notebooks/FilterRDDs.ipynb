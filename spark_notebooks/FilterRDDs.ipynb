{
 "cells": [
  {
   "cell_type": "markdown",
   "metadata": {},
   "source": [
    "### Filtering weather data\n",
    "\n",
    "Filtering a RDD to determine minimum temperature of historical weather data from the year 1800.  Format of weather data is:\n",
    "\n",
    "- weather station id, day, type of reading,reading (tenth of celsius)\n",
    "- ITE00100554,18000101,TMAX,-75,,,E,\n",
    "- ITE00100554,18000101,TMIN,-148,,,E,"
   ]
  },
  {
   "cell_type": "code",
   "execution_count": 1,
   "metadata": {},
   "outputs": [],
   "source": [
    "#import relevant libraries\n",
    "import findspark\n",
    "findspark.init('/home/richard/Documents/spark/spark-2.4.0-bin-hadoop2.7')\n",
    "from pyspark import SparkConf, SparkContext"
   ]
  },
  {
   "cell_type": "code",
   "execution_count": 2,
   "metadata": {},
   "outputs": [],
   "source": [
    "#set up as local and name app\n",
    "conf = SparkConf().setMaster(\"local\").setAppName(\"MinTemperatures\")\n",
    "sc = SparkContext(conf = conf)"
   ]
  },
  {
   "cell_type": "code",
   "execution_count": 5,
   "metadata": {},
   "outputs": [],
   "source": [
    "#define function to strip and process data from each line of sc\n",
    "def parseLine(line):\n",
    "    fields = line.split(',')\n",
    "    stationID = fields[0]\n",
    "    entryType = fields[2]\n",
    "    #if scale == centigrade:\n",
    "    temperature = float(fields[3]) * 0.1\n",
    "    #else:\n",
    "        #temperature = float(fields[3]) * 0.1 * (9.0 / 5.0) + 32.0\n",
    "    return (stationID, entryType, temperature)"
   ]
  },
  {
   "cell_type": "code",
   "execution_count": 7,
   "metadata": {},
   "outputs": [
    {
     "name": "stdout",
     "output_type": "stream",
     "text": [
      "ITE00100554\t-14.80C\n",
      "EZE00100082\t-13.50C\n"
     ]
    }
   ],
   "source": [
    "#put into lines RDD\n",
    "lines = sc.textFile(\"data/1800.csv\")\n",
    "\n",
    "#apply the function\n",
    "parsedLines = lines.map(parseLine)\n",
    "\n",
    "#filter for 'TMIN'\n",
    "minTemps = parsedLines.filter(lambda x: \"TMIN\" in x[1])\n",
    "\n",
    "#create stationid and temp key/value pairs\n",
    "stationTemps = minTemps.map(lambda x: (x[0], x[2]))\n",
    "\n",
    "#aggregate every station id, only smallest value will survive for that station id\n",
    "minTemps = stationTemps.reduceByKey(lambda x, y: min(x,y))\n",
    "\n",
    "results = minTemps.collect();\n",
    "\n",
    "#print(results)\n",
    "\n",
    "for result in results:\n",
    "    print(result[0] + \"\\t{:.2f}C\".format(result[1]))"
   ]
  },
  {
   "cell_type": "code",
   "execution_count": null,
   "metadata": {},
   "outputs": [],
   "source": []
  }
 ],
 "metadata": {
  "kernelspec": {
   "display_name": "Python 3",
   "language": "python",
   "name": "python3"
  },
  "language_info": {
   "codemirror_mode": {
    "name": "ipython",
    "version": 3
   },
   "file_extension": ".py",
   "mimetype": "text/x-python",
   "name": "python",
   "nbconvert_exporter": "python",
   "pygments_lexer": "ipython3",
   "version": "3.5.2"
  }
 },
 "nbformat": 4,
 "nbformat_minor": 2
}
