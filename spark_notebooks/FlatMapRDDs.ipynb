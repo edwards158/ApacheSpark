{
 "cells": [
  {
   "cell_type": "markdown",
   "metadata": {},
   "source": [
    "## Processing text document"
   ]
  },
  {
   "cell_type": "code",
   "execution_count": 1,
   "metadata": {},
   "outputs": [],
   "source": [
    "import findspark\n",
    "findspark.init('/home/richard/Documents/spark/spark-2.4.0-bin-hadoop2.7')"
   ]
  },
  {
   "cell_type": "code",
   "execution_count": 2,
   "metadata": {},
   "outputs": [],
   "source": [
    "from pyspark import SparkConf, SparkContext"
   ]
  },
  {
   "cell_type": "code",
   "execution_count": 3,
   "metadata": {},
   "outputs": [],
   "source": [
    "conf = SparkConf().setMaster('local').setAppName('WordCount')\n",
    "sc = SparkContext(conf=conf)"
   ]
  },
  {
   "cell_type": "code",
   "execution_count": 4,
   "metadata": {},
   "outputs": [],
   "source": [
    "input = sc.textFile('data/Book.txt')\n",
    "\n",
    "words = input.flatMap(lambda x:x.split())\n",
    "\n",
    "#generate a dict, with word as key and count of word as value\n",
    "wordCounts = words.countByValue()"
   ]
  },
  {
   "cell_type": "code",
   "execution_count": 5,
   "metadata": {},
   "outputs": [],
   "source": [
    "#type(wordCounts)"
   ]
  },
  {
   "cell_type": "code",
   "execution_count": 6,
   "metadata": {},
   "outputs": [
    {
     "name": "stdout",
     "output_type": "stream",
     "text": [
      "b'overestimate' 2\n",
      "b'better,' 3\n",
      "b'HEALTH' 1\n",
      "b'reasonably' 1\n",
      "b'Importance' 1\n",
      "b'benefit' 6\n",
      "b'site,' 7\n",
      "b'Administration' 2\n",
      "b'Meanwhile,' 1\n",
      "b'further' 6\n",
      "b'actions.' 1\n",
      "b'ALONE' 1\n",
      "b'out-of-pocket' 1\n",
      "b'lightly' 1\n",
      "b'search,' 3\n",
      "b'rendering' 1\n",
      "b'Does' 2\n",
      "b'chapter' 1\n",
      "b'keyword,' 1\n",
      "b\"lawyer's\" 1\n",
      "b'modern' 1\n",
      "b'path.' 3\n",
      "b'Wordpress' 2\n",
      "b'retention' 1\n",
      "b'3' 6\n",
      "b'dependencies.' 1\n",
      "b'profitable.' 1\n",
      "b'physically' 1\n",
      "b'on' 399\n",
      "b'timely' 3\n",
      "b'After' 3\n",
      "b'supposed' 4\n",
      "b'nature' 2\n",
      "b'theft.' 1\n",
      "b'COBRA' 2\n",
      "b'Be' 11\n",
      "b'Product,' 1\n",
      "b'section' 6\n",
      "b'weeks' 1\n",
      "b'opening' 1\n"
     ]
    }
   ],
   "source": [
    "loop_count=0\n",
    "for word, count in wordCounts.items():\n",
    "#    #ensure ascii\n",
    "    cleanWord = word.encode('ascii','ignore')\n",
    "    if cleanWord and loop_count < 40:\n",
    "        print(cleanWord,count)\n",
    "        loop_count+=1"
   ]
  },
  {
   "cell_type": "code",
   "execution_count": 7,
   "metadata": {},
   "outputs": [],
   "source": [
    "import re\n",
    "\n",
    "#lets clean up with regular expressions\n",
    "def normalizeWords(text):\n",
    "    return re.compile(r'\\W+',re.UNICODE).split(text.lower())"
   ]
  },
  {
   "cell_type": "code",
   "execution_count": 8,
   "metadata": {},
   "outputs": [],
   "source": [
    "words = input.flatMap(normalizeWords)\n",
    "wordCounts = words.countByValue()"
   ]
  },
  {
   "cell_type": "code",
   "execution_count": 10,
   "metadata": {},
   "outputs": [
    {
     "name": "stdout",
     "output_type": "stream",
     "text": [
      "b'overestimate' 2\n",
      "b'contacted' 1\n",
      "b'food' 2\n",
      "b'theft' 1\n",
      "b'achievement' 1\n",
      "b'learned' 11\n",
      "b'surrounded' 1\n",
      "b'nature' 2\n",
      "b'tech' 9\n",
      "b'colleagues' 1\n",
      "b'further' 7\n",
      "b'insurance' 24\n",
      "b'producing' 4\n",
      "b'increased' 2\n",
      "b'lightly' 2\n",
      "b'venues' 1\n",
      "b'notice' 8\n",
      "b'rendering' 1\n",
      "b'chapter' 1\n",
      "b'kinds' 3\n",
      "b'reasonably' 1\n",
      "b'modern' 4\n",
      "b'app' 3\n",
      "b'match' 2\n",
      "b'inertia' 2\n",
      "b'3' 13\n",
      "b'complicated' 3\n",
      "b'completely' 7\n",
      "b'changed' 2\n",
      "b'centered' 1\n",
      "b'spec' 1\n",
      "b'armies' 1\n",
      "b'educate' 1\n",
      "b'on' 428\n",
      "b'eat' 4\n",
      "b'timely' 3\n",
      "b'sizes' 3\n",
      "b'filled' 1\n",
      "b'supposed' 4\n",
      "b'california' 2\n"
     ]
    }
   ],
   "source": [
    "loop_count = 0\n",
    "for word, count in wordCounts.items():\n",
    "    #ensure ascii\n",
    "    cleanWord = word.encode('ascii','ignore')\n",
    "    if cleanWord and loop_count < 40:\n",
    "        print(cleanWord,count)\n",
    "        loop_count +=1\n",
    "        "
   ]
  },
  {
   "cell_type": "code",
   "execution_count": null,
   "metadata": {},
   "outputs": [],
   "source": []
  }
 ],
 "metadata": {
  "kernelspec": {
   "display_name": "Python 3",
   "language": "python",
   "name": "python3"
  },
  "language_info": {
   "codemirror_mode": {
    "name": "ipython",
    "version": 3
   },
   "file_extension": ".py",
   "mimetype": "text/x-python",
   "name": "python",
   "nbconvert_exporter": "python",
   "pygments_lexer": "ipython3",
   "version": "3.5.2"
  }
 },
 "nbformat": 4,
 "nbformat_minor": 2
}
