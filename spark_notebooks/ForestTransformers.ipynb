{
 "cells": [
  {
   "cell_type": "markdown",
   "metadata": {},
   "source": [
    "## Forest Cover Type Dataset\n",
    "\n",
    "Playing around with a Kaggle dataset.  Using queries, SQL, Transformers and ML methods\n"
   ]
  },
  {
   "cell_type": "markdown",
   "metadata": {},
   "source": [
    "Tree types found in Roosevelt National Forest in Colorado\n",
    "\n",
    "Kaggle dataset downloaded from:\n",
    "- kaggle.com/uciml/forest-cover-type-dataset\n",
    "\n",
    "Try using various transformers and machine learning models on a Kaggle dataset\n",
    "\n",
    "\n",
    "Attribute Information:\n",
    "\n",
    "Given is the attribute name, attribute type, the measurement unit and a brief description. The forest cover type is the classification problem. The order of this listing corresponds to the order of numerals along the rows of the database.\n",
    "\n",
    "Name / Data Type / Measurement / Description\n",
    "\n",
    "- Elevation / quantitative /meters / Elevation in meters\n",
    "- Aspect / quantitative / azimuth / Aspect in degrees azimuth\n",
    "- Slope / quantitative / degrees / Slope in degrees\n",
    "- Horizontal_Distance_To_Hydrology / quantitative / meters / Horz Dist to nearest surface water features\n",
    "- Vertical_Distance_To_Hydrology / quantitative / meters / Vert Dist to nearest surface water features\n",
    "- Horizontal_Distance_To_Roadways / quantitative / meters / Horz Dist to nearest roadway\n",
    "- Hillshade_9am / quantitative / 0 to 255 index / Hillshade index at 9am, summer solstice\n",
    "- Hillshade_Noon / quantitative / 0 to 255 index / Hillshade index at noon, summer soltice\n",
    "- Hillshade_3pm / quantitative / 0 to 255 index / Hillshade index at 3pm, summer solstice\n",
    "- Horizontal_Distance_To_Fire_Points / quantitative / meters / Horz Dist to nearest wildfire ignition points\n",
    "- Wilderness_Area (4 binary columns) / qualitative / 0 (absence) or 1 (presence) / Wilderness area designation\n",
    "- Soil_Type (40 binary columns) / qualitative / 0 (absence) or 1 (presence) / Soil Type designation\n",
    "- Cover_Type (7 types) / integer / 1 to 7 / Forest Cover Type designation"
   ]
  },
  {
   "cell_type": "code",
   "execution_count": 1,
   "metadata": {},
   "outputs": [],
   "source": [
    "import findspark\n",
    "findspark.init('/home/rich/spark/spark-2.4.3-bin-hadoop2.7')\n",
    "import pandas as pd\n",
    "from pyspark import SparkConf, SparkContext\n",
    "from pyspark.sql import SparkSession\n",
    "from pyspark.sql.types import *\n",
    "import matplotlib.pyplot as plt\n",
    "\n",
    "import pyspark.sql.functions as F\n",
    "import pyspark.ml.feature as feat\n",
    "import numpy as np\n"
   ]
  },
  {
   "cell_type": "code",
   "execution_count": 2,
   "metadata": {},
   "outputs": [],
   "source": [
    "spark = SparkSession.builder.master('local[*]').appName('Forest').getOrCreate()"
   ]
  },
  {
   "cell_type": "code",
   "execution_count": 3,
   "metadata": {},
   "outputs": [],
   "source": [
    "# Read data from CSV file\n",
    "forest = spark.read.csv('./data/covtype.csv',sep=',',header=True,inferSchema=True)"
   ]
  },
  {
   "cell_type": "code",
   "execution_count": 4,
   "metadata": {},
   "outputs": [
    {
     "name": "stdout",
     "output_type": "stream",
     "text": [
      "The data contain 581012 records.\n"
     ]
    }
   ],
   "source": [
    "print(\"The data contain %d records.\" % forest.count())"
   ]
  },
  {
   "cell_type": "code",
   "execution_count": 5,
   "metadata": {},
   "outputs": [
    {
     "name": "stdout",
     "output_type": "stream",
     "text": [
      "root\n",
      " |-- Elevation: integer (nullable = true)\n",
      " |-- Aspect: integer (nullable = true)\n",
      " |-- Slope: integer (nullable = true)\n",
      " |-- Horizontal_Distance_To_Hydrology: integer (nullable = true)\n",
      " |-- Vertical_Distance_To_Hydrology: integer (nullable = true)\n",
      " |-- Horizontal_Distance_To_Roadways: integer (nullable = true)\n",
      " |-- Hillshade_9am: integer (nullable = true)\n",
      " |-- Hillshade_Noon: integer (nullable = true)\n",
      " |-- Hillshade_3pm: integer (nullable = true)\n",
      " |-- Horizontal_Distance_To_Fire_Points: integer (nullable = true)\n",
      " |-- Wilderness_Area_Rawah: integer (nullable = true)\n",
      " |-- Wilderness_Area_Neota: integer (nullable = true)\n",
      " |-- Wilderness_Area_Comanche: integer (nullable = true)\n",
      " |-- Wilderness_Area_CacheLaPoudre: integer (nullable = true)\n",
      " |-- Soil_type_2702: integer (nullable = true)\n",
      " |-- Soil_type_2703: integer (nullable = true)\n",
      " |-- Soil_type_2704: integer (nullable = true)\n",
      " |-- Soil_type_2705: integer (nullable = true)\n",
      " |-- Soil_type_2706: integer (nullable = true)\n",
      " |-- Soil_type_2717: integer (nullable = true)\n",
      " |-- Soil_type_3501: integer (nullable = true)\n",
      " |-- Soil_type_3502: integer (nullable = true)\n",
      " |-- Soil_type_4201: integer (nullable = true)\n",
      " |-- Soil_type_4703: integer (nullable = true)\n",
      " |-- Soil_type_4704: integer (nullable = true)\n",
      " |-- Soil_type_4744: integer (nullable = true)\n",
      " |-- Soil_type_4758: integer (nullable = true)\n",
      " |-- Soil_type_5101: integer (nullable = true)\n",
      " |-- Soil_type_5151: integer (nullable = true)\n",
      " |-- Soil_type_6101: integer (nullable = true)\n",
      " |-- Soil_type_6102: integer (nullable = true)\n",
      " |-- Soil_type_6731: integer (nullable = true)\n",
      " |-- Soil_type_7101: integer (nullable = true)\n",
      " |-- Soil_type_7102: integer (nullable = true)\n",
      " |-- Soil_type_7103: integer (nullable = true)\n",
      " |-- Soil_type_7201: integer (nullable = true)\n",
      " |-- Soil_type_7202: integer (nullable = true)\n",
      " |-- Soil_type_7700: integer (nullable = true)\n",
      " |-- Soil_type_7701: integer (nullable = true)\n",
      " |-- Soil_type_7702: integer (nullable = true)\n",
      " |-- Soil_type_7709: integer (nullable = true)\n",
      " |-- Soil_type_7710: integer (nullable = true)\n",
      " |-- Soil_type_7745: integer (nullable = true)\n",
      " |-- Soil_type_7746: integer (nullable = true)\n",
      " |-- Soil_type_7755: integer (nullable = true)\n",
      " |-- Soil_type_7756: integer (nullable = true)\n",
      " |-- Soil_type_7757: integer (nullable = true)\n",
      " |-- Soil_type_7790: integer (nullable = true)\n",
      " |-- Soil_type_8703: integer (nullable = true)\n",
      " |-- Soil_type_8707: integer (nullable = true)\n",
      " |-- Soil_type_8708: integer (nullable = true)\n",
      " |-- Soil_type_8771: integer (nullable = true)\n",
      " |-- Soil_type_8772: integer (nullable = true)\n",
      " |-- Soil_type_8776: integer (nullable = true)\n",
      " |-- CoverType: integer (nullable = true)\n",
      "\n"
     ]
    }
   ],
   "source": [
    "forest.printSchema()"
   ]
  },
  {
   "cell_type": "code",
   "execution_count": 6,
   "metadata": {},
   "outputs": [
    {
     "name": "stdout",
     "output_type": "stream",
     "text": [
      "+--------------------------------+\n",
      "|Horizontal_Distance_To_Hydrology|\n",
      "+--------------------------------+\n",
      "|                             258|\n",
      "|                             212|\n",
      "|                             268|\n",
      "|                             242|\n",
      "|                             153|\n",
      "|                             300|\n",
      "|                             270|\n",
      "|                             234|\n",
      "|                             240|\n",
      "|                             247|\n",
      "+--------------------------------+\n",
      "only showing top 10 rows\n",
      "\n"
     ]
    }
   ],
   "source": [
    "forest.select('Horizontal_Distance_To_Hydrology').show(10)"
   ]
  },
  {
   "cell_type": "markdown",
   "metadata": {},
   "source": [
    "### Bucketizing\n",
    "\n",
    "Putting the *Horizontal_Distance_To_Hydrology* into discrete buckets"
   ]
  },
  {
   "cell_type": "code",
   "execution_count": 7,
   "metadata": {},
   "outputs": [
    {
     "name": "stdout",
     "output_type": "stream",
     "text": [
      "+---+----+\n",
      "|min| max|\n",
      "+---+----+\n",
      "|  0|1397|\n",
      "+---+----+\n",
      "\n"
     ]
    }
   ],
   "source": [
    "#getting min and max using sql\n",
    "forest.createOrReplaceTempView(\"Hydro\")\n",
    "query = '''select min(Horizontal_Distance_To_Hydrology) as min, \n",
    "           max(Horizontal_Distance_To_Hydrology) as max from Hydro'''\n",
    "forest_hydro = spark.sql(query)\n",
    "forest_hydro.show()"
   ]
  },
  {
   "cell_type": "code",
   "execution_count": 8,
   "metadata": {},
   "outputs": [
    {
     "name": "stdout",
     "output_type": "stream",
     "text": [
      "1397\n"
     ]
    },
    {
     "data": {
      "text/plain": [
       "Row(MAX=1397)"
      ]
     },
     "execution_count": 8,
     "metadata": {},
     "output_type": "execute_result"
    }
   ],
   "source": [
    "#getting min and max using dot notation\n",
    "row = forest.agg({\"Horizontal_Distance_To_Hydrology\":\"max\"}).collect()[0][0]\n",
    "print(row)\n",
    "\n",
    "#another way\n",
    "forest.select(F.max(F.col(\"Horizontal_Distance_To_Hydrology\")).alias(\"MAX\")).collect()[0]"
   ]
  },
  {
   "cell_type": "code",
   "execution_count": 9,
   "metadata": {},
   "outputs": [
    {
     "name": "stdout",
     "output_type": "stream",
     "text": [
      "(0, 1397)\n"
     ]
    }
   ],
   "source": [
    "#a faster way to do it\n",
    "#want 10 buckets\n",
    "buckets_no = 10\n",
    "\n",
    "dist_min_max = (\n",
    "    forest.agg(\n",
    "          F.min('Horizontal_Distance_To_Hydrology')\n",
    "            .alias('min')\n",
    "        , F.max('Horizontal_Distance_To_Hydrology')\n",
    "            .alias('max')\n",
    "    )\n",
    "    .rdd\n",
    "    .map(lambda row: (row.min, row.max))\n",
    "    .collect()[0]\n",
    ")\n",
    "print(dist_min_max)"
   ]
  },
  {
   "cell_type": "code",
   "execution_count": 10,
   "metadata": {},
   "outputs": [
    {
     "data": {
      "text/plain": [
       "[0.0, 127.0, 254.0, 381.0, 508.0, 635.0, 762.0, 889.0, 1016.0, 1143.0, 1270.0]"
      ]
     },
     "execution_count": 10,
     "metadata": {},
     "output_type": "execute_result"
    }
   ],
   "source": [
    "#get the range of values\n",
    "rng = dist_min_max[1] - dist_min_max[0]\n",
    "\n",
    "#make a list of thresholds, use numpy arange min, max,step size\n",
    "splits = list(np.arange(dist_min_max[0],dist_min_max[1],rng/(buckets_no+1)))\n",
    "splits"
   ]
  },
  {
   "cell_type": "code",
   "execution_count": 11,
   "metadata": {},
   "outputs": [
    {
     "name": "stdout",
     "output_type": "stream",
     "text": [
      "+--------------------------------+------------------------------------+\n",
      "|Horizontal_Distance_To_Hydrology|Horizontal_Distance_To_Hydrology_Bkt|\n",
      "+--------------------------------+------------------------------------+\n",
      "|                             258|                                 2.0|\n",
      "|                             212|                                 1.0|\n",
      "|                             268|                                 2.0|\n",
      "|                             242|                                 1.0|\n",
      "|                             153|                                 1.0|\n",
      "|                             300|                                 2.0|\n",
      "|                             270|                                 2.0|\n",
      "|                             234|                                 1.0|\n",
      "|                             240|                                 1.0|\n",
      "|                             247|                                 1.0|\n",
      "+--------------------------------+------------------------------------+\n",
      "only showing top 10 rows\n",
      "\n"
     ]
    }
   ],
   "source": [
    "#make and apply the bucketizer\n",
    "bucketizer = feat.Bucketizer(\n",
    "        splits = splits,\n",
    "        inputCol = 'Horizontal_Distance_To_Hydrology',\n",
    "        outputCol = 'Horizontal_Distance_To_Hydrology_Bkt'\n",
    ")\n",
    "#use object to transform the df\n",
    "bucketizer.transform(forest).select(\n",
    "                                    'Horizontal_Distance_To_Hydrology',\n",
    "                                    'Horizontal_Distance_To_Hydrology_Bkt'\n",
    "                                    ).show(10)"
   ]
  },
  {
   "cell_type": "markdown",
   "metadata": {},
   "source": [
    "### Vectorizing\n",
    "VectorAssembler collates multiple features into a single column\n"
   ]
  },
  {
   "cell_type": "code",
   "execution_count": 12,
   "metadata": {},
   "outputs": [
    {
     "data": {
      "text/plain": [
       "'feat'"
      ]
     },
     "execution_count": 12,
     "metadata": {},
     "output_type": "execute_result"
    }
   ],
   "source": [
    "vectorAssembler = feat.VectorAssembler(inputCols=forest.columns,outputCol='feat')\n",
    "vectorAssembler.getOutputCol()"
   ]
  },
  {
   "cell_type": "code",
   "execution_count": 13,
   "metadata": {},
   "outputs": [
    {
     "data": {
      "text/plain": [
       "[Row(feat=SparseVector(55, {0: 2596.0, 1: 51.0, 2: 3.0, 3: 258.0, 5: 510.0, 6: 221.0, 7: 232.0, 8: 148.0, 9: 6279.0, 10: 1.0, 42: 1.0, 54: 5.0}), pca_feat=DenseVector([-3887.7711, 4996.8103, 2323.0932, 1014.5873, -135.1702]))]"
      ]
     },
     "execution_count": 13,
     "metadata": {},
     "output_type": "execute_result"
    }
   ],
   "source": [
    "#apply pca to all the features\n",
    "pca = feat.PCA(k=5,inputCol=vectorAssembler.getOutputCol(),outputCol='pca_feat')\n",
    "\n",
    "(\n",
    "pca.fit(vectorAssembler.transform(forest))\n",
    "        .transform(vectorAssembler.transform(forest))\n",
    "        .select('feat','pca_feat').take(1)\n",
    ")"
   ]
  },
  {
   "cell_type": "markdown",
   "metadata": {},
   "source": [
    "Produced the top 5 pca components"
   ]
  },
  {
   "cell_type": "markdown",
   "metadata": {},
   "source": [
    "### Estimators\n",
    "Try classification and regression techniques using two models from ML library "
   ]
  },
  {
   "cell_type": "code",
   "execution_count": 14,
   "metadata": {},
   "outputs": [],
   "source": [
    "import pyspark.ml.classification as cl\n",
    "\n",
    "#get just the features as vectorassembler\n",
    "vectorAssembler = feat.VectorAssembler(inputCols=forest.columns[:-1],outputCol='features')\n",
    "\n",
    "#transform the dataset, check  and cast whether target equal to 1\n",
    "forest_data = (\n",
    "        vectorAssembler\n",
    "        .transform(forest)\n",
    "        .withColumn('label',(F.col('CoverType')==1).cast('integer'))\n",
    "    .select('label','features')\n",
    "\n",
    ")\n",
    "#use log reg model\n",
    "log_obj = cl.LogisticRegression()\n",
    "log_model = log_obj.fit(forest_data)\n"
   ]
  },
  {
   "cell_type": "code",
   "execution_count": 15,
   "metadata": {},
   "outputs": [
    {
     "data": {
      "text/plain": [
       "DenseVector([0.0071, -0.0004, -0.0155, -0.0014, -0.0015, -0.0001, -0.0019, -0.0251, 0.0065, 0.0, -6.0389, -7.0751, -6.6708, -16.7513, -5.0649, -11.4737, -13.9752, -5.4082, -4.5281, -6.4561, -12.6817, -4.6724, -3.0293, -4.2446, -4.9244, -5.4026, -4.9246, -8.1625, -3.7149, -4.3748, -4.6184, -6.8022, -4.0672, -3.9113, 0.5552, -3.6307, -3.9406, -4.1827, -5.597, -4.967, -3.8844, -4.9093, -4.9629, -5.118, -4.2124, -4.6844, -4.2862, -6.3924, -6.3938, -7.2371, -16.6593, -5.795, -5.8279, -6.3668])"
      ]
     },
     "execution_count": 15,
     "metadata": {},
     "output_type": "execute_result"
    }
   ],
   "source": [
    "log_model.coefficients"
   ]
  },
  {
   "cell_type": "code",
   "execution_count": 17,
   "metadata": {},
   "outputs": [
    {
     "name": "stdout",
     "output_type": "stream",
     "text": [
      "+-----+--------------------+\n",
      "|label|            features|\n",
      "+-----+--------------------+\n",
      "|    0|(54,[0,1,2,3,5,6,...|\n",
      "|    0|(54,[0,1,2,3,4,5,...|\n",
      "|    0|(54,[0,1,2,3,4,5,...|\n",
      "|    0|(54,[0,1,2,3,4,5,...|\n",
      "|    0|(54,[0,1,2,3,4,5,...|\n",
      "+-----+--------------------+\n",
      "only showing top 5 rows\n",
      "\n"
     ]
    }
   ],
   "source": [
    "forest_data.show(5)"
   ]
  },
  {
   "cell_type": "code",
   "execution_count": 22,
   "metadata": {},
   "outputs": [],
   "source": [
    "#using regression techinques - try to predict elevation\n",
    "import pyspark.ml.regression as rg\n",
    "\n",
    "#forest.select('Elevation').show(5)\n",
    "\n",
    "assembler = feat.VectorAssembler(inputCols = forest.columns[1:],outputCol='features')\n",
    "\n",
    "#cast to float as regression problem\n",
    "elevation_data = (\n",
    "    assembler\n",
    "    .transform(forest)\n",
    "    .withColumn(\n",
    "        'label'\n",
    "        , F.col('Elevation').cast('float'))\n",
    "    .select('label', 'features')\n",
    ")"
   ]
  },
  {
   "cell_type": "code",
   "execution_count": 26,
   "metadata": {},
   "outputs": [
    {
     "name": "stdout",
     "output_type": "stream",
     "text": [
      "+------+-----------------------------------------------------------------------------------------------------+\n",
      "|label |features                                                                                             |\n",
      "+------+-----------------------------------------------------------------------------------------------------+\n",
      "|2596.0|(54,[0,1,2,4,5,6,7,8,9,41,53],[51.0,3.0,258.0,510.0,221.0,232.0,148.0,6279.0,1.0,1.0,5.0])           |\n",
      "|2590.0|(54,[0,1,2,3,4,5,6,7,8,9,41,53],[56.0,2.0,212.0,-6.0,390.0,220.0,235.0,151.0,6225.0,1.0,1.0,5.0])    |\n",
      "|2804.0|(54,[0,1,2,3,4,5,6,7,8,9,24,53],[139.0,9.0,268.0,65.0,3180.0,234.0,238.0,135.0,6121.0,1.0,1.0,2.0])  |\n",
      "|2785.0|(54,[0,1,2,3,4,5,6,7,8,9,42,53],[155.0,18.0,242.0,118.0,3090.0,238.0,238.0,122.0,6211.0,1.0,1.0,2.0])|\n",
      "|2595.0|(54,[0,1,2,3,4,5,6,7,8,9,41,53],[45.0,2.0,153.0,-1.0,391.0,220.0,234.0,150.0,6172.0,1.0,1.0,5.0])    |\n",
      "+------+-----------------------------------------------------------------------------------------------------+\n",
      "only showing top 5 rows\n",
      "\n"
     ]
    }
   ],
   "source": [
    "elevation_data.show(5,truncate=False)"
   ]
  },
  {
   "cell_type": "code",
   "execution_count": 28,
   "metadata": {},
   "outputs": [
    {
     "data": {
      "text/plain": [
       "DenseVector([0.0309, 0.6522, 0.1911, 0.1424, 0.0342, 0.7402, 1.053, -0.0017, -0.0041, 2.7163, 189.0362, 27.8238, -265.8505, -407.4379, -346.0612, -364.3841, -302.6788, -400.5852, -212.9918, -126.1329, -117.7423, -312.0478, -248.7118, -221.4788, -155.1459, -84.5129, -398.0433, -387.8102, -179.4485, -261.3875, -337.7875, 48.0629, -94.7813, 149.8043, 135.144, 80.0901, 64.3659, 124.0233, -115.0126, 119.1285, -181.7498, 10.8056, -42.7849, 65.5441, 102.2562, 36.9865, -48.1163, 379.2091, 256.0169, 497.1714, 313.0607, 337.172, 397.0758, -14.4551])"
      ]
     },
     "execution_count": 28,
     "metadata": {},
     "output_type": "execute_result"
    }
   ],
   "source": [
    "lr_obj = rg.LinearRegression(\n",
    "    maxIter=10\n",
    "    , regParam=0.01\n",
    "    , elasticNetParam=1.00)\n",
    "lr_model = lr_obj.fit(elevation_data)\n",
    "\n",
    "lr_model.coefficients"
   ]
  },
  {
   "cell_type": "code",
   "execution_count": 29,
   "metadata": {},
   "outputs": [
    {
     "name": "stdout",
     "output_type": "stream",
     "text": [
      "0.7860412464754158 129.50871925702575 103.34079732698777\n"
     ]
    }
   ],
   "source": [
    "summary = lr_model.summary\n",
    "\n",
    "print(\n",
    "    summary.r2\n",
    "    , summary.rootMeanSquaredError\n",
    "    , summary.meanAbsoluteError\n",
    ")"
   ]
  },
  {
   "cell_type": "markdown",
   "metadata": {},
   "source": [
    "R^2 of 0.786 means we have modelled well using LR on this feature"
   ]
  },
  {
   "cell_type": "markdown",
   "metadata": {},
   "source": [
    "### Pipelines\n",
    "Chain together Transformers and Estimators to form a sequential workflow"
   ]
  },
  {
   "cell_type": "code",
   "execution_count": 32,
   "metadata": {},
   "outputs": [
    {
     "name": "stdout",
     "output_type": "stream",
     "text": [
      "+---------+------------------+\n",
      "|Elevation|        prediction|\n",
      "+---------+------------------+\n",
      "|     2596|2840.7801831411316|\n",
      "|     2590|2828.7464246669683|\n",
      "|     2804| 2842.761272955131|\n",
      "|     2785| 2966.057500325109|\n",
      "|     2595|2817.1687155114637|\n",
      "|     2579|2892.6436548111983|\n",
      "|     2606| 2844.248065926093|\n",
      "|     2605|2838.8097383254494|\n",
      "|     2617|2845.6749236394053|\n",
      "|     2612|2841.6531550057234|\n",
      "+---------+------------------+\n",
      "only showing top 10 rows\n",
      "\n"
     ]
    }
   ],
   "source": [
    "from pyspark.ml import Pipeline\n",
    "\n",
    "assembler = feat.VectorAssembler(\n",
    "    inputCols=forest.columns[1:]\n",
    "    , outputCol='features')\n",
    "\n",
    "lr_obj = rg.LinearRegression(\n",
    "    labelCol='Elevation'\n",
    "    , maxIter=10\n",
    "    , regParam=0.01\n",
    ")\n",
    "\n",
    "#create the pipeline and use on dataset\n",
    "pip = Pipeline(stages=[assembler, lr_obj])\n",
    "\n",
    "(\n",
    "    pip\n",
    "    .fit(forest)\n",
    "    .transform(forest)\n",
    "    .select('Elevation', 'prediction')\n",
    "    .show(10)\n",
    ")"
   ]
  },
  {
   "cell_type": "code",
   "execution_count": 34,
   "metadata": {},
   "outputs": [
    {
     "data": {
      "image/png": "[encoded data removed]",
      "text/plain": [
       "<Figure size 432x288 with 1 Axes>"
      ]
     },
     "metadata": {
      "needs_background": "light"
     },
     "output_type": "display_data"
    }
   ],
   "source": [
    "#what is distribution of elevation?\n",
    "transformed_df = forest.select('Elevation')\n",
    "transformed_df.toPandas().hist();"
   ]
  },
  {
   "cell_type": "markdown",
   "metadata": {},
   "source": [
    "Almost a gaussian dist."
   ]
  },
  {
   "cell_type": "markdown",
   "metadata": {},
   "source": [
    "### Feature Selection\n",
    "\n",
    "use chi square to select top 10 best features"
   ]
  },
  {
   "cell_type": "code",
   "execution_count": 36,
   "metadata": {},
   "outputs": [
    {
     "name": "stdout",
     "output_type": "stream",
     "text": [
      "+--------------------+\n",
      "|            selected|\n",
      "+--------------------+\n",
      "|(10,[0,1,2,3,5,6,...|\n",
      "|(10,[0,1,2,3,4,5,...|\n",
      "|(10,[0,1,2,3,4,5,...|\n",
      "|(10,[0,1,2,3,4,5,...|\n",
      "|(10,[0,1,2,3,4,5,...|\n",
      "+--------------------+\n",
      "only showing top 5 rows\n",
      "\n"
     ]
    }
   ],
   "source": [
    "assembler = feat.VectorAssembler(\n",
    "    inputCols=forest.columns[0:-1]\n",
    "    , outputCol='features'\n",
    ")\n",
    "\n",
    "selector = feat.ChiSqSelector(\n",
    "    labelCol='CoverType'\n",
    "    , numTopFeatures=10\n",
    "    , outputCol='selected')\n",
    "\n",
    "pipeline_sel = Pipeline(stages=[assembler, selector])\n",
    "\n",
    "(\n",
    "    pipeline_sel\n",
    "    .fit(forest)\n",
    "    .transform(forest)\n",
    "    .select(selector.getOutputCol())\n",
    "    .show(5)\n",
    ")"
   ]
  },
  {
   "cell_type": "markdown",
   "metadata": {},
   "source": [
    "For regression problems select best features by checking the correlations between each and very feature and the target and slect those that are most hghly correlated with the target but exhibit little to no correlation with other features"
   ]
  },
  {
   "cell_type": "markdown",
   "metadata": {},
   "source": [
    "### Predicting forest coverage types"
   ]
  },
  {
   "cell_type": "code",
   "execution_count": 62,
   "metadata": {},
   "outputs": [],
   "source": [
    "#train test split\n",
    "forest_train, forest_test = (forest.randomSplit([0.75,0.25],seed=27))\n",
    "\n",
    "#vectorize the features\n",
    "assembler = feat.VectorAssembler(inputCols=forest.columns[:-1],outputCol='features')"
   ]
  },
  {
   "cell_type": "code",
   "execution_count": 63,
   "metadata": {},
   "outputs": [
    {
     "name": "stdout",
     "output_type": "stream",
     "text": [
      "435321\n",
      "145691\n"
     ]
    }
   ],
   "source": [
    "print(forest_train.count())\n",
    "print(forest_test.count())"
   ]
  },
  {
   "cell_type": "code",
   "execution_count": 64,
   "metadata": {},
   "outputs": [],
   "source": [
    "#select 10 features\n",
    "selector = feat.ChiSqSelector(\n",
    "    labelCol='CoverType'\n",
    "    , numTopFeatures=10\n",
    "    , outputCol='selected')"
   ]
  },
  {
   "cell_type": "code",
   "execution_count": 65,
   "metadata": {},
   "outputs": [],
   "source": [
    "#apply logistic regression\n",
    "logReg_obj = cl.LogisticRegression(\n",
    "    labelCol='CoverType'\n",
    "    , featuresCol=selector.getOutputCol()\n",
    "    , regParam=0.01\n",
    "    , elasticNetParam=1.0\n",
    "    , family='multinomial'\n",
    ")"
   ]
  },
  {
   "cell_type": "code",
   "execution_count": 66,
   "metadata": {},
   "outputs": [],
   "source": [
    "#make and fit our piepline\n",
    "pipeline = Pipeline(\n",
    "    stages=[\n",
    "        vectorAssembler\n",
    "        , selector\n",
    "        , logReg_obj\n",
    "    ])\n",
    "\n",
    "pModel = pipeline.fit(forest_train)"
   ]
  },
  {
   "cell_type": "code",
   "execution_count": 67,
   "metadata": {},
   "outputs": [
    {
     "data": {
      "text/plain": [
       "(0.6005001943648852, 0.5819004790151103, 0.6335326135451057)"
      ]
     },
     "execution_count": 67,
     "metadata": {},
     "output_type": "execute_result"
    }
   ],
   "source": [
    "import pyspark.ml.evaluation as ev\n",
    "\n",
    "#get the predictions for the unseen data\n",
    "results_logReg = (\n",
    "    pModel\n",
    "    .transform(forest_test)\n",
    "    .select('CoverType', 'probability', 'prediction')\n",
    ")\n",
    "\n",
    "\n",
    "#calculate the performance on the model.  \n",
    "evaluator = ev.MulticlassClassificationEvaluator(\n",
    "    predictionCol='prediction'  #name of the column that contains the predicted class for observatuions\n",
    "    , labelCol='CoverType')  #true label\n",
    "\n",
    "(\n",
    "    #return the results default is F1 score \n",
    "    evaluator.evaluate(results_logReg)\n",
    "    , evaluator.evaluate(\n",
    "        results_logReg\n",
    "        , {evaluator.metricName: 'weightedPrecision'}\n",
    "    ) \n",
    "    , evaluator.evaluate(\n",
    "        results_logReg\n",
    "        , {evaluator.metricName: 'accuracy'}\n",
    "    )\n",
    ")"
   ]
  },
  {
   "cell_type": "markdown",
   "metadata": {},
   "source": [
    "Accruacy of around sixty percent"
   ]
  },
  {
   "cell_type": "markdown",
   "metadata": {},
   "source": [
    "### Tuning the hyperparameters\n",
    "\n",
    "Try a simple grid search using the regularization param.  Only select 5 features for speed  "
   ]
  },
  {
   "cell_type": "code",
   "execution_count": 75,
   "metadata": {},
   "outputs": [],
   "source": [
    "import pyspark.ml.tuning as tune\n",
    "\n",
    "#assembler and selector same as above\n",
    "\n",
    "selector = feat.ChiSqSelector(\n",
    "    labelCol='CoverType'\n",
    "    , numTopFeatures=5\n",
    "    , outputCol='selected')\n",
    "\n",
    "logReg_obj = cl.LogisticRegression(\n",
    "    labelCol='CoverType'\n",
    "    , featuresCol=selector.getOutputCol()\n",
    "    , family='multinomial'\n",
    ")"
   ]
  },
  {
   "cell_type": "code",
   "execution_count": 77,
   "metadata": {},
   "outputs": [],
   "source": [
    "#build the grid regulariztion techniques\n",
    "logReg_grid = (\n",
    "    tune.ParamGridBuilder()\n",
    "    .addGrid(logReg_obj.regParam\n",
    "            , [0.05, 0.1]\n",
    "        )\n",
    "    .build()\n",
    ")"
   ]
  },
  {
   "cell_type": "code",
   "execution_count": 78,
   "metadata": {},
   "outputs": [],
   "source": [
    "logReg_ev = ev.MulticlassClassificationEvaluator(\n",
    "    predictionCol='prediction'\n",
    "    , labelCol='CoverType')\n",
    "\n",
    "#cv by default on 3 folds\n",
    "cross_v = tune.CrossValidator(\n",
    "    estimator=logReg_obj\n",
    "    , estimatorParamMaps=logReg_grid\n",
    "    , evaluator=logReg_ev\n",
    ")\n",
    "\n",
    "pipeline = Pipeline(stages=[vectorAssembler, selector])\n",
    "data_trans = pipeline.fit(forest_train)\n",
    "\n",
    "logReg_modelTest = cross_v.fit(\n",
    "    data_trans.transform(forest_train)\n",
    ")"
   ]
  },
  {
   "cell_type": "code",
   "execution_count": 79,
   "metadata": {},
   "outputs": [
    {
     "name": "stdout",
     "output_type": "stream",
     "text": [
      "0.5989028399279137\n",
      "0.6523464043763857\n",
      "0.6523464043763857\n"
     ]
    }
   ],
   "source": [
    "#evaluate on test dataset\n",
    "data_trans_test = data_trans.transform(forest_test)\n",
    "results = logReg_modelTest.transform(data_trans_test)\n",
    "\n",
    "print(logReg_ev.evaluate(results, {logReg_ev.metricName: 'weightedPrecision'}))\n",
    "print(logReg_ev.evaluate(results, {logReg_ev.metricName: 'weightedRecall'}))\n",
    "print(logReg_ev.evaluate(results, {logReg_ev.metricName: 'accuracy'}))"
   ]
  },
  {
   "cell_type": "code",
   "execution_count": null,
   "metadata": {},
   "outputs": [],
   "source": []
  }
 ],
 "metadata": {
  "kernelspec": {
   "display_name": "Python 3",
   "language": "python",
   "name": "python3"
  },
  "language_info": {
   "codemirror_mode": {
    "name": "ipython",
    "version": 3
   },
   "file_extension": ".py",
   "mimetype": "text/x-python",
   "name": "python",
   "nbconvert_exporter": "python",
   "pygments_lexer": "ipython3",
   "version": "3.6.8"
  }
 },
 "nbformat": 4,
 "nbformat_minor": 2
}
