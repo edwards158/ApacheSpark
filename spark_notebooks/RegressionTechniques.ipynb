{
 "cells": [
  {
   "cell_type": "markdown",
   "metadata": {},
   "source": [
    "## Using Regression Techniques\n",
    "\n",
    "Use regression techniques to predict patterns in flight data"
   ]
  },
  {
   "cell_type": "code",
   "execution_count": 328,
   "metadata": {},
   "outputs": [],
   "source": [
    "import findspark\n",
    "findspark.init('/home/rich/spark/spark-2.4.3-bin-hadoop2.7')\n",
    "import pandas as pd\n",
    "from pyspark import SparkConf, SparkContext\n",
    "from pyspark.sql import SparkSession\n",
    "from pyspark.sql.types import *\n",
    "import matplotlib.pyplot as plt"
   ]
  },
  {
   "cell_type": "markdown",
   "metadata": {},
   "source": [
    "### Data dictionary of flights data\n",
    "    mon — month (integer between 1 and 12)\n",
    "    dom — day of month (integer between 1 and 31)\n",
    "    dow — day of week (integer; 1 = Monday and 7 = Sunday)\n",
    "    org — origin airport (IATA code)\n",
    "    mile — distance (miles)\n",
    "    carrier — carrier (IATA code)\n",
    "    depart — departure time (decimal hour)\n",
    "    duration — expected duration (minutes)\n",
    "    delay — delay (minutes)\n"
   ]
  },
  {
   "cell_type": "markdown",
   "metadata": {},
   "source": [
    "### Loading flights data"
   ]
  },
  {
   "cell_type": "code",
   "execution_count": 329,
   "metadata": {},
   "outputs": [],
   "source": [
    "file_path = './data/flights.csv'"
   ]
  },
  {
   "cell_type": "code",
   "execution_count": 330,
   "metadata": {},
   "outputs": [],
   "source": [
    "#pandas is my first love :)\n",
    "df = pd.read_csv(file_path)"
   ]
  },
  {
   "cell_type": "code",
   "execution_count": 331,
   "metadata": {
    "scrolled": true
   },
   "outputs": [
    {
     "data": {
      "text/html": [
       "<div>\n",
       "<style scoped>\n",
       "    .dataframe tbody tr th:only-of-type {\n",
       "        vertical-align: middle;\n",
       "    }\n",
       "\n",
       "    .dataframe tbody tr th {\n",
       "        vertical-align: top;\n",
       "    }\n",
       "\n",
       "    .dataframe thead th {\n",
       "        text-align: right;\n",
       "    }\n",
       "</style>\n",
       "<table border=\"1\" class=\"dataframe\">\n",
       "  <thead>\n",
       "    <tr style=\"text-align: right;\">\n",
       "      <th></th>\n",
       "      <th>mon</th>\n",
       "      <th>dom</th>\n",
       "      <th>dow</th>\n",
       "      <th>carrier</th>\n",
       "      <th>flight</th>\n",
       "      <th>org</th>\n",
       "      <th>mile</th>\n",
       "      <th>depart</th>\n",
       "      <th>duration</th>\n",
       "      <th>delay</th>\n",
       "    </tr>\n",
       "  </thead>\n",
       "  <tbody>\n",
       "    <tr>\n",
       "      <th>0</th>\n",
       "      <td>11</td>\n",
       "      <td>20</td>\n",
       "      <td>6</td>\n",
       "      <td>US</td>\n",
       "      <td>19</td>\n",
       "      <td>JFK</td>\n",
       "      <td>2153</td>\n",
       "      <td>9.48</td>\n",
       "      <td>351</td>\n",
       "      <td>NaN</td>\n",
       "    </tr>\n",
       "    <tr>\n",
       "      <th>1</th>\n",
       "      <td>0</td>\n",
       "      <td>22</td>\n",
       "      <td>2</td>\n",
       "      <td>UA</td>\n",
       "      <td>1107</td>\n",
       "      <td>ORD</td>\n",
       "      <td>316</td>\n",
       "      <td>16.33</td>\n",
       "      <td>82</td>\n",
       "      <td>30.0</td>\n",
       "    </tr>\n",
       "    <tr>\n",
       "      <th>2</th>\n",
       "      <td>2</td>\n",
       "      <td>20</td>\n",
       "      <td>4</td>\n",
       "      <td>UA</td>\n",
       "      <td>226</td>\n",
       "      <td>SFO</td>\n",
       "      <td>337</td>\n",
       "      <td>6.17</td>\n",
       "      <td>82</td>\n",
       "      <td>-8.0</td>\n",
       "    </tr>\n",
       "    <tr>\n",
       "      <th>3</th>\n",
       "      <td>9</td>\n",
       "      <td>13</td>\n",
       "      <td>1</td>\n",
       "      <td>AA</td>\n",
       "      <td>419</td>\n",
       "      <td>ORD</td>\n",
       "      <td>1236</td>\n",
       "      <td>10.33</td>\n",
       "      <td>195</td>\n",
       "      <td>-5.0</td>\n",
       "    </tr>\n",
       "    <tr>\n",
       "      <th>4</th>\n",
       "      <td>4</td>\n",
       "      <td>2</td>\n",
       "      <td>5</td>\n",
       "      <td>AA</td>\n",
       "      <td>325</td>\n",
       "      <td>ORD</td>\n",
       "      <td>258</td>\n",
       "      <td>8.92</td>\n",
       "      <td>65</td>\n",
       "      <td>NaN</td>\n",
       "    </tr>\n",
       "  </tbody>\n",
       "</table>\n",
       "</div>"
      ],
      "text/plain": [
       "   mon  dom  dow carrier  flight  org  mile  depart  duration  delay\n",
       "0   11   20    6      US      19  JFK  2153    9.48       351    NaN\n",
       "1    0   22    2      UA    1107  ORD   316   16.33        82   30.0\n",
       "2    2   20    4      UA     226  SFO   337    6.17        82   -8.0\n",
       "3    9   13    1      AA     419  ORD  1236   10.33       195   -5.0\n",
       "4    4    2    5      AA     325  ORD   258    8.92        65    NaN"
      ]
     },
     "execution_count": 331,
     "metadata": {},
     "output_type": "execute_result"
    }
   ],
   "source": [
    "df.head()"
   ]
  },
  {
   "cell_type": "code",
   "execution_count": 332,
   "metadata": {},
   "outputs": [
    {
     "name": "stdout",
     "output_type": "stream",
     "text": [
      "<class 'pandas.core.frame.DataFrame'>\n",
      "RangeIndex: 50000 entries, 0 to 49999\n",
      "Data columns (total 10 columns):\n",
      "mon         50000 non-null int64\n",
      "dom         50000 non-null int64\n",
      "dow         50000 non-null int64\n",
      "carrier     50000 non-null object\n",
      "flight      50000 non-null int64\n",
      "org         50000 non-null object\n",
      "mile        50000 non-null int64\n",
      "depart      50000 non-null float64\n",
      "duration    50000 non-null int64\n",
      "delay       47022 non-null float64\n",
      "dtypes: float64(2), int64(6), object(2)\n",
      "memory usage: 3.8+ MB\n"
     ]
    }
   ],
   "source": [
    "df.info()"
   ]
  },
  {
   "cell_type": "code",
   "execution_count": 333,
   "metadata": {},
   "outputs": [],
   "source": [
    "# Create SparkSession object\n",
    "spark = SparkSession.builder.master('local[*]').appName('FlightsRegression').getOrCreate()"
   ]
  },
  {
   "cell_type": "code",
   "execution_count": 334,
   "metadata": {},
   "outputs": [
    {
     "name": "stdout",
     "output_type": "stream",
     "text": [
      "The data contain 50000 records.\n",
      "+---+---+---+-------+------+---+----+------+--------+-----+\n",
      "|mon|dom|dow|carrier|flight|org|mile|depart|duration|delay|\n",
      "+---+---+---+-------+------+---+----+------+--------+-----+\n",
      "| 11| 20|  6|     US|    19|JFK|2153|  9.48|     351| null|\n",
      "|  0| 22|  2|     UA|  1107|ORD| 316| 16.33|      82|   30|\n",
      "|  2| 20|  4|     UA|   226|SFO| 337|  6.17|      82|   -8|\n",
      "|  9| 13|  1|     AA|   419|ORD|1236| 10.33|     195|   -5|\n",
      "|  4|  2|  5|     AA|   325|ORD| 258|  8.92|      65| null|\n",
      "+---+---+---+-------+------+---+----+------+--------+-----+\n",
      "only showing top 5 rows\n",
      "\n"
     ]
    },
    {
     "data": {
      "text/plain": [
       "[('mon', 'int'),\n",
       " ('dom', 'int'),\n",
       " ('dow', 'int'),\n",
       " ('carrier', 'string'),\n",
       " ('flight', 'int'),\n",
       " ('org', 'string'),\n",
       " ('mile', 'int'),\n",
       " ('depart', 'double'),\n",
       " ('duration', 'int'),\n",
       " ('delay', 'int')]"
      ]
     },
     "execution_count": 334,
     "metadata": {},
     "output_type": "execute_result"
    }
   ],
   "source": [
    "# Read data from CSV file\n",
    "flights = spark.read.csv(file_path,sep=',',header=True,inferSchema=True,nullValue='NA')\n",
    "\n",
    "# Get number of records\n",
    "print(\"The data contain %d records.\" % flights.count())\n",
    "\n",
    "# View the first five records\n",
    "flights.show(5)\n",
    "\n",
    "# Check column data types\n",
    "flights.dtypes"
   ]
  },
  {
   "cell_type": "markdown",
   "metadata": {},
   "source": [
    "### Add a categorical column"
   ]
  },
  {
   "cell_type": "code",
   "execution_count": 335,
   "metadata": {},
   "outputs": [
    {
     "name": "stdout",
     "output_type": "stream",
     "text": [
      "+---+---+---+-------+------+---+----+------+--------+-----+-------+\n",
      "|mon|dom|dow|carrier|flight|org|mile|depart|duration|delay|org_idx|\n",
      "+---+---+---+-------+------+---+----+------+--------+-----+-------+\n",
      "| 11| 20|  6|     US|    19|JFK|2153|  9.48|     351| null|    2.0|\n",
      "|  0| 22|  2|     UA|  1107|ORD| 316| 16.33|      82|   30|    0.0|\n",
      "|  2| 20|  4|     UA|   226|SFO| 337|  6.17|      82|   -8|    1.0|\n",
      "|  9| 13|  1|     AA|   419|ORD|1236| 10.33|     195|   -5|    0.0|\n",
      "|  4|  2|  5|     AA|   325|ORD| 258|  8.92|      65| null|    0.0|\n",
      "|  5|  2|  1|     UA|   704|SFO| 550|  7.98|     102|    2|    1.0|\n",
      "|  7|  2|  6|     AA|   380|ORD| 733| 10.83|     135|   54|    0.0|\n",
      "|  1| 16|  6|     UA|  1477|ORD|1440|   8.0|     232|   -7|    0.0|\n",
      "|  1| 22|  5|     UA|   620|SJC|1829|  7.98|     250|  -13|    4.0|\n",
      "| 11|  8|  1|     OO|  5590|SFO| 158|  7.77|      60|   88|    1.0|\n",
      "+---+---+---+-------+------+---+----+------+--------+-----+-------+\n",
      "only showing top 10 rows\n",
      "\n"
     ]
    }
   ],
   "source": [
    "from pyspark.ml.feature import StringIndexer\n",
    "\n",
    "# Create an indexer\n",
    "indexer = StringIndexer(inputCol='org', outputCol='org_idx')\n",
    "\n",
    "# Indexer identifies categories in the data\n",
    "indexer_model = indexer.fit(flights)\n",
    "\n",
    "# Indexer creates a new column with numeric index values\n",
    "flights = indexer_model.transform(flights)\n",
    "\n",
    "flights.show(10)"
   ]
  },
  {
   "cell_type": "markdown",
   "metadata": {},
   "source": [
    "## Encoding flight origin\n",
    "\n",
    "The org column in the flights data is a categorical variable giving the airport from which a flight departs.\n",
    "\n",
    "    ORD — O'Hare International Airport (Chicago)\n",
    "    SFO — San Francisco International Airport\n",
    "    JFK — John F Kennedy International Airport (New York)\n",
    "    LGA — La Guardia Airport (New York)\n",
    "    SMF — Sacramento\n",
    "    SJC — San Jose\n",
    "    TUS — Tucson International Airport\n",
    "    OGG — Kahului (Hawaii)\n",
    "\n",
    "It is a categorical variable, it needs to be one-hot encoded before it can be used in a regression model.\n",
    "\n",
    "Previously used string indexer to create a column of indexed values corresponding to the strings in org."
   ]
  },
  {
   "cell_type": "code",
   "execution_count": 336,
   "metadata": {},
   "outputs": [
    {
     "name": "stdout",
     "output_type": "stream",
     "text": [
      "+---+-------+-------------+\n",
      "|org|org_idx|    org_dummy|\n",
      "+---+-------+-------------+\n",
      "|ORD|    0.0|(7,[0],[1.0])|\n",
      "|SFO|    1.0|(7,[1],[1.0])|\n",
      "|JFK|    2.0|(7,[2],[1.0])|\n",
      "|LGA|    3.0|(7,[3],[1.0])|\n",
      "|SJC|    4.0|(7,[4],[1.0])|\n",
      "|SMF|    5.0|(7,[5],[1.0])|\n",
      "|TUS|    6.0|(7,[6],[1.0])|\n",
      "|OGG|    7.0|    (7,[],[])|\n",
      "+---+-------+-------------+\n",
      "\n"
     ]
    }
   ],
   "source": [
    "# Import the one hot encoder class\n",
    "from pyspark.ml.feature import OneHotEncoderEstimator\n",
    "\n",
    "# Create an instance of the one hot encoder\n",
    "onehot = OneHotEncoderEstimator(inputCols=['org_idx'], outputCols=['org_dummy'])\n",
    "\n",
    "# Apply the one hot encoder to the flights data\n",
    "onehot = onehot.fit(flights)\n",
    "flights = onehot.transform(flights)\n",
    "\n",
    "# Check the results\n",
    "flights.select('org', 'org_idx', 'org_dummy').distinct().sort('org_idx').show()"
   ]
  },
  {
   "cell_type": "markdown",
   "metadata": {},
   "source": [
    "### Flight duration model: Just distance\n",
    "\n",
    "Build a regression model to predict flight duration (the duration column).\n",
    "\n",
    "Keep the model simple, including only the distance of the flight (the km column) as a predictor."
   ]
  },
  {
   "cell_type": "code",
   "execution_count": 337,
   "metadata": {},
   "outputs": [
    {
     "name": "stdout",
     "output_type": "stream",
     "text": [
      "+---+---+---+-------+------+---+------+--------+-----+-------+-------------+------+\n",
      "|mon|dom|dow|carrier|flight|org|depart|duration|delay|org_idx|    org_dummy|    km|\n",
      "+---+---+---+-------+------+---+------+--------+-----+-------+-------------+------+\n",
      "| 11| 20|  6|     US|    19|JFK|  9.48|     351| null|    2.0|(7,[2],[1.0])|3465.0|\n",
      "|  0| 22|  2|     UA|  1107|ORD| 16.33|      82|   30|    0.0|(7,[0],[1.0])| 509.0|\n",
      "|  2| 20|  4|     UA|   226|SFO|  6.17|      82|   -8|    1.0|(7,[1],[1.0])| 542.0|\n",
      "|  9| 13|  1|     AA|   419|ORD| 10.33|     195|   -5|    0.0|(7,[0],[1.0])|1989.0|\n",
      "|  4|  2|  5|     AA|   325|ORD|  8.92|      65| null|    0.0|(7,[0],[1.0])| 415.0|\n",
      "+---+---+---+-------+------+---+------+--------+-----+-------+-------------+------+\n",
      "only showing top 5 rows\n",
      "\n"
     ]
    }
   ],
   "source": [
    "from pyspark.sql.functions import round\n",
    "\n",
    "# make a distance km feature\n",
    "flights = flights.withColumn('km', round(flights.mile * 1.60934, 0)).drop('mile')\n",
    "\n",
    "flights.show(5)"
   ]
  },
  {
   "cell_type": "code",
   "execution_count": 338,
   "metadata": {},
   "outputs": [
    {
     "name": "stdout",
     "output_type": "stream",
     "text": [
      "+---+---+---+-------+------+---+------+--------+-----+-------+-------------+------+--------+\n",
      "|mon|dom|dow|carrier|flight|org|depart|duration|delay|org_idx|org_dummy    |km    |features|\n",
      "+---+---+---+-------+------+---+------+--------+-----+-------+-------------+------+--------+\n",
      "|11 |20 |6  |US     |19    |JFK|9.48  |351     |null |2.0    |(7,[2],[1.0])|3465.0|[3465.0]|\n",
      "|0  |22 |2  |UA     |1107  |ORD|16.33 |82      |30   |0.0    |(7,[0],[1.0])|509.0 |[509.0] |\n",
      "|2  |20 |4  |UA     |226   |SFO|6.17  |82      |-8   |1.0    |(7,[1],[1.0])|542.0 |[542.0] |\n",
      "|9  |13 |1  |AA     |419   |ORD|10.33 |195     |-5   |0.0    |(7,[0],[1.0])|1989.0|[1989.0]|\n",
      "|4  |2  |5  |AA     |325   |ORD|8.92  |65      |null |0.0    |(7,[0],[1.0])|415.0 |[415.0] |\n",
      "+---+---+---+-------+------+---+------+--------+-----+-------+-------------+------+--------+\n",
      "only showing top 5 rows\n",
      "\n"
     ]
    }
   ],
   "source": [
    "from pyspark.ml.feature import VectorAssembler\n",
    "\n",
    "# make km the feature\n",
    "assembler = VectorAssembler(inputCols=['km'], outputCol='features')\n",
    "\n",
    "flights = assembler.transform(flights)\n",
    "\n",
    "# Check the resulting column\n",
    "flights.show(5, truncate=False)"
   ]
  },
  {
   "cell_type": "code",
   "execution_count": 339,
   "metadata": {},
   "outputs": [],
   "source": [
    "#clean up the column order\n",
    "flights = flights.select('mon','dom','dow','carrier','flight','org','depart','duration','delay','km','org_idx',\n",
    "                          'org_dummy','features')"
   ]
  },
  {
   "cell_type": "code",
   "execution_count": 340,
   "metadata": {},
   "outputs": [
    {
     "name": "stdout",
     "output_type": "stream",
     "text": [
      "3.956383822363204\n"
     ]
    }
   ],
   "source": [
    "# Split into training and testing sets in a 80:20 ratio\n",
    "flights_train, flights_test = flights.randomSplit([0.8,0.2],seed=17)\n",
    "\n",
    "# Check that training set has around 80% of records\n",
    "training_ratio = flights_train.count() / flights_test.count()\n",
    "print(training_ratio)"
   ]
  },
  {
   "cell_type": "code",
   "execution_count": 341,
   "metadata": {},
   "outputs": [
    {
     "name": "stdout",
     "output_type": "stream",
     "text": [
      "+--------+------------------+\n",
      "|duration|prediction        |\n",
      "+--------+------------------+\n",
      "|135     |149.8246079746783 |\n",
      "|120     |133.5637354593352 |\n",
      "|160     |152.39609479105815|\n",
      "|275     |269.0205851104026 |\n",
      "|85      |93.40316194469713 |\n",
      "+--------+------------------+\n",
      "only showing top 5 rows\n",
      "\n"
     ]
    },
    {
     "data": {
      "text/plain": [
       "17.077817098141733"
      ]
     },
     "execution_count": 341,
     "metadata": {},
     "output_type": "execute_result"
    }
   ],
   "source": [
    "from pyspark.ml.regression import LinearRegression\n",
    "from pyspark.ml.evaluation import RegressionEvaluator\n",
    "\n",
    "# Create a regression object and train on training data\n",
    "regression = LinearRegression(labelCol='duration').fit(flights_train)\n",
    "\n",
    "# Create predictions for the testing data and take a look at the predictions\n",
    "predictions = regression.transform(flights_test)\n",
    "predictions.select('duration', 'prediction').show(5, False)\n",
    "\n",
    "# Calculate the RMSE\n",
    "RegressionEvaluator(labelCol='duration').evaluate(predictions)"
   ]
  },
  {
   "cell_type": "markdown",
   "metadata": {},
   "source": [
    "### Interpreting the coefficients\n",
    "\n",
    "The linear regression model for flight duration as a function of distance takes the form\n",
    "\n",
    "duration=α+β×distance\n",
    "\n",
    "where\n",
    "\n",
    "    α — intercept (component of duration which does not depend on distance) and\n",
    "    β — coefficient (rate at which duration increases as a function of distance; also called the slope).\n",
    "\n",
    "By looking at the coefficients of your model you will be able to infer\n",
    "\n",
    "    how much of the average flight duration is actually spent on the ground and\n",
    "    what the average speed is during a flight.\n"
   ]
  },
  {
   "cell_type": "code",
   "execution_count": 342,
   "metadata": {},
   "outputs": [
    {
     "name": "stdout",
     "output_type": "stream",
     "text": [
      "intercept is:  44.318016537917266\n",
      "coefs are:  [0.07563196518764231]\n",
      "minutes_per_km is :  0.07563196518764231\n",
      "avg_speed is :  793.3153640942751\n"
     ]
    }
   ],
   "source": [
    "# Intercept (average minutes on ground)\n",
    "inter = regression.intercept\n",
    "print(\"intercept is: \",inter)\n",
    "\n",
    "# Coefficients\n",
    "coefs = regression.coefficients\n",
    "print(\"coefs are: \", coefs)\n",
    "\n",
    "# Average minutes per km\n",
    "minutes_per_km = regression.coefficients[0]\n",
    "print(\"minutes_per_km is : \",minutes_per_km)\n",
    "\n",
    "# Average speed in km per hour\n",
    "avg_speed = 60 / minutes_per_km\n",
    "print(\"avg_speed is : \",avg_speed)"
   ]
  },
  {
   "cell_type": "code",
   "execution_count": 343,
   "metadata": {},
   "outputs": [
    {
     "data": {
      "text/plain": [
       "0.07563196518764231"
      ]
     },
     "execution_count": 343,
     "metadata": {},
     "output_type": "execute_result"
    }
   ],
   "source": [
    "coefs[0]"
   ]
  },
  {
   "cell_type": "code",
   "execution_count": 344,
   "metadata": {},
   "outputs": [
    {
     "name": "stdout",
     "output_type": "stream",
     "text": [
      "+---+---+---+-------+------+---+------+--------+-----+------+-------+-------------+--------+------------------+\n",
      "|mon|dom|dow|carrier|flight|org|depart|duration|delay|    km|org_idx|    org_dummy|features|        prediction|\n",
      "+---+---+---+-------+------+---+------+--------+-----+------+-------+-------------+--------+------------------+\n",
      "|  0|  1|  2|     AA|   154|ORD| 17.25|     135|   49|1395.0|    0.0|(7,[0],[1.0])|[1395.0]| 149.8246079746783|\n",
      "|  0|  1|  2|     AA|   392|ORD|  8.08|     120|    4|1180.0|    0.0|(7,[0],[1.0])|[1180.0]| 133.5637354593352|\n",
      "|  0|  1|  2|     AA|   895|ORD| 12.67|     160|   68|1429.0|    0.0|(7,[0],[1.0])|[1429.0]|152.39609479105815|\n",
      "|  0|  1|  2|     AA|  1561|ORD| 18.58|     275|   65|2971.0|    0.0|(7,[0],[1.0])|[2971.0]| 269.0205851104026|\n",
      "|  0|  1|  2|     AA|  1659|ORD| 21.08|      85|   29| 649.0|    0.0|(7,[0],[1.0])| [649.0]| 93.40316194469713|\n",
      "+---+---+---+-------+------+---+------+--------+-----+------+-------+-------------+--------+------------------+\n",
      "only showing top 5 rows\n",
      "\n"
     ]
    }
   ],
   "source": [
    "predictions.show(5)"
   ]
  },
  {
   "cell_type": "markdown",
   "metadata": {},
   "source": [
    "### Flight duration model: Adding origin airport\n",
    "\n",
    "Duration of a flight might depend not only on the distance being covered but also the airport from which the flight departs.\n",
    "\n",
    "Make departure airport as a predictor."
   ]
  },
  {
   "cell_type": "code",
   "execution_count": 345,
   "metadata": {},
   "outputs": [
    {
     "name": "stdout",
     "output_type": "stream",
     "text": [
      "+---+---+---+-------+------+---+------+--------+-----+------+-------+-------------+--------+\n",
      "|mon|dom|dow|carrier|flight|org|depart|duration|delay|    km|org_idx|    org_dummy|features|\n",
      "+---+---+---+-------+------+---+------+--------+-----+------+-------+-------------+--------+\n",
      "| 11| 20|  6|     US|    19|JFK|  9.48|     351| null|3465.0|    2.0|(7,[2],[1.0])|[3465.0]|\n",
      "|  0| 22|  2|     UA|  1107|ORD| 16.33|      82|   30| 509.0|    0.0|(7,[0],[1.0])| [509.0]|\n",
      "|  2| 20|  4|     UA|   226|SFO|  6.17|      82|   -8| 542.0|    1.0|(7,[1],[1.0])| [542.0]|\n",
      "|  9| 13|  1|     AA|   419|ORD| 10.33|     195|   -5|1989.0|    0.0|(7,[0],[1.0])|[1989.0]|\n",
      "|  4|  2|  5|     AA|   325|ORD|  8.92|      65| null| 415.0|    0.0|(7,[0],[1.0])| [415.0]|\n",
      "+---+---+---+-------+------+---+------+--------+-----+------+-------+-------------+--------+\n",
      "only showing top 5 rows\n",
      "\n"
     ]
    }
   ],
   "source": [
    "flights.show(5)"
   ]
  },
  {
   "cell_type": "code",
   "execution_count": 346,
   "metadata": {},
   "outputs": [
    {
     "name": "stdout",
     "output_type": "stream",
     "text": [
      "+---+---+---+-------+------+---+------+--------+-----+------+-------+-------------+\n",
      "|mon|dom|dow|carrier|flight|org|depart|duration|delay|    km|org_idx|    org_dummy|\n",
      "+---+---+---+-------+------+---+------+--------+-----+------+-------+-------------+\n",
      "| 11| 20|  6|     US|    19|JFK|  9.48|     351| null|3465.0|    2.0|(7,[2],[1.0])|\n",
      "|  0| 22|  2|     UA|  1107|ORD| 16.33|      82|   30| 509.0|    0.0|(7,[0],[1.0])|\n",
      "|  2| 20|  4|     UA|   226|SFO|  6.17|      82|   -8| 542.0|    1.0|(7,[1],[1.0])|\n",
      "|  9| 13|  1|     AA|   419|ORD| 10.33|     195|   -5|1989.0|    0.0|(7,[0],[1.0])|\n",
      "|  4|  2|  5|     AA|   325|ORD|  8.92|      65| null| 415.0|    0.0|(7,[0],[1.0])|\n",
      "+---+---+---+-------+------+---+------+--------+-----+------+-------+-------------+\n",
      "only showing top 5 rows\n",
      "\n",
      "+---+---+---+-------+------+---+------+--------+-----+------+-------+-------------+----------------------+\n",
      "|mon|dom|dow|carrier|flight|org|depart|duration|delay|km    |org_idx|org_dummy    |features              |\n",
      "+---+---+---+-------+------+---+------+--------+-----+------+-------+-------------+----------------------+\n",
      "|11 |20 |6  |US     |19    |JFK|9.48  |351     |null |3465.0|2.0    |(7,[2],[1.0])|(8,[0,3],[3465.0,1.0])|\n",
      "|0  |22 |2  |UA     |1107  |ORD|16.33 |82      |30   |509.0 |0.0    |(7,[0],[1.0])|(8,[0,1],[509.0,1.0]) |\n",
      "|2  |20 |4  |UA     |226   |SFO|6.17  |82      |-8   |542.0 |1.0    |(7,[1],[1.0])|(8,[0,2],[542.0,1.0]) |\n",
      "|9  |13 |1  |AA     |419   |ORD|10.33 |195     |-5   |1989.0|0.0    |(7,[0],[1.0])|(8,[0,1],[1989.0,1.0])|\n",
      "|4  |2  |5  |AA     |325   |ORD|8.92  |65      |null |415.0 |0.0    |(7,[0],[1.0])|(8,[0,1],[415.0,1.0]) |\n",
      "+---+---+---+-------+------+---+------+--------+-----+------+-------+-------------+----------------------+\n",
      "only showing top 5 rows\n",
      "\n"
     ]
    }
   ],
   "source": [
    "flights = flights.select('mon','dom','dow','carrier','flight','org','depart','duration','delay','km','org_idx',\n",
    "                          'org_dummy')\n",
    "flights.show(5)\n",
    "\n",
    "#save for later processing\n",
    "flights_stored = flights\n",
    "\n",
    "# make org_dummy and km the features\n",
    "assembler = VectorAssembler(inputCols=['km','org_dummy'], outputCol='features')\n",
    "\n",
    "flights = assembler.transform(flights)\n",
    "\n",
    "# Check the resulting column\n",
    "flights.show(5, truncate=False)"
   ]
  },
  {
   "cell_type": "code",
   "execution_count": 347,
   "metadata": {},
   "outputs": [],
   "source": [
    "# Split into training and testing sets in a 80:20 ratio\n",
    "flights_train, flights_test = flights.randomSplit([0.8,0.2],seed=17)"
   ]
  },
  {
   "cell_type": "code",
   "execution_count": 348,
   "metadata": {},
   "outputs": [
    {
     "name": "stdout",
     "output_type": "stream",
     "text": [
      "+--------+------------------+\n",
      "|duration|prediction        |\n",
      "+--------+------------------+\n",
      "|135     |147.98723402231772|\n",
      "|120     |132.01442581276055|\n",
      "|160     |150.51316648336396|\n",
      "|275     |265.0716328049321 |\n",
      "|85      |92.56530414171473 |\n",
      "+--------+------------------+\n",
      "only showing top 5 rows\n",
      "\n"
     ]
    }
   ],
   "source": [
    "# Create a regression object and train on training data\n",
    "regression = LinearRegression(labelCol='duration').fit(flights_train)\n",
    "\n",
    "# Create predictions for the testing data\n",
    "predictions = regression.transform(flights_test)\n",
    "\n",
    "# Calculate the RMSE on testing data\n",
    "RegressionEvaluator(labelCol='duration').evaluate(predictions)\n",
    "\n",
    "predictions.select('duration', 'prediction').show(5, False)"
   ]
  },
  {
   "cell_type": "markdown",
   "metadata": {},
   "source": [
    "## Interpreting coefficients\n",
    "\n",
    "Origin airport, org, has eight possible values (ORD, SFO, JFK, LGA, SMF, SJC, TUS and OGG) which have been one-hot encoded to seven dummy variables in org_dummy.\n",
    "\n",
    "The values for km and org_dummy have been assembled into features, which has eight columns with sparse representation. Column indices in features are as follows:\n",
    "\n",
    "    0 — km\n",
    "    1 — ORD\n",
    "    2 — SFO\n",
    "    3 — JFK\n",
    "    4 — LGA\n",
    "    5 — SMF\n",
    "    6 — SJC and\n",
    "    7 — TUS.\n",
    "\n",
    "OGG does not appear in this list because it is the reference level for the origin airport category.\n",
    "Use intercept and coefficients attributes to interpret the model.\n",
    "The coefficients attribute is a list, where the first element indicates how flight duration changes with flight distance."
   ]
  },
  {
   "cell_type": "code",
   "execution_count": 349,
   "metadata": {},
   "outputs": [
    {
     "name": "stdout",
     "output_type": "stream",
     "text": [
      "intercept is:  15.956859201862951\n",
      "coefs are:  [0.07429213120724262,28.392851786351308,20.339524711313466,52.53454711956853,46.64532328571594,18.144657044664857,15.567486628753434,17.67929758404075]\n"
     ]
    }
   ],
   "source": [
    "# Intercept (average minutes on ground)\n",
    "inter = regression.intercept\n",
    "print(\"intercept is: \",inter)\n",
    "\n",
    "# Coefficients - these represent 8 values from above\n",
    "coefs = regression.coefficients\n",
    "print(\"coefs are: \", coefs)\n"
   ]
  },
  {
   "cell_type": "code",
   "execution_count": 350,
   "metadata": {},
   "outputs": [
    {
     "name": "stdout",
     "output_type": "stream",
     "text": [
      "avg_speed_hour =  807.6225439357256\n",
      "15.956859201862951\n",
      "68.49140632143148\n",
      "62.60218248757889\n"
     ]
    }
   ],
   "source": [
    "res = regression.coefficients[0]\n",
    "avg_speed_hour = 60/res\n",
    "print('avg_speed_hour = ',avg_speed_hour)\n",
    "\n",
    "# Average minutes on ground at OGG\n",
    "inter = regression.intercept\n",
    "print(inter)\n",
    "\n",
    "# Average minutes on ground at JFK\n",
    "avg_ground_jfk = inter + regression.coefficients[3]\n",
    "print(avg_ground_jfk)\n",
    "\n",
    "# Average minutes on ground at LGA\n",
    "avg_ground_lga = inter + regression.coefficients[4]\n",
    "print(avg_ground_lga)\n"
   ]
  },
  {
   "cell_type": "markdown",
   "metadata": {},
   "source": [
    "## Bucketing departure time\n",
    "\n",
    "Time of day data are a challenge with regression models. They are also a great candidate for bucketing.\n",
    "\n",
    "Convert the flight departure times from numeric values between 0 (corresponding to 00:00) and 24 (corresponding to 24:00) to binned values. Take those binned values and one-hot encode them."
   ]
  },
  {
   "cell_type": "code",
   "execution_count": 351,
   "metadata": {},
   "outputs": [
    {
     "name": "stdout",
     "output_type": "stream",
     "text": [
      "+---+---+---+-------+------+---+----+------+--------+-----+\n",
      "|mon|dom|dow|carrier|flight|org|mile|depart|duration|delay|\n",
      "+---+---+---+-------+------+---+----+------+--------+-----+\n",
      "| 11| 20|  6|     US|    19|JFK|2153|  9.48|     351| null|\n",
      "|  0| 22|  2|     UA|  1107|ORD| 316| 16.33|      82|   30|\n",
      "|  2| 20|  4|     UA|   226|SFO| 337|  6.17|      82|   -8|\n",
      "|  9| 13|  1|     AA|   419|ORD|1236| 10.33|     195|   -5|\n",
      "|  4|  2|  5|     AA|   325|ORD| 258|  8.92|      65| null|\n",
      "+---+---+---+-------+------+---+----+------+--------+-----+\n",
      "only showing top 5 rows\n",
      "\n"
     ]
    }
   ],
   "source": [
    "flights = spark.read.csv(file_path,sep=',',header=True,inferSchema=True,nullValue='NA')\n",
    "\n",
    "flights.show(5)"
   ]
  },
  {
   "cell_type": "code",
   "execution_count": 352,
   "metadata": {
    "scrolled": false
   },
   "outputs": [
    {
     "name": "stdout",
     "output_type": "stream",
     "text": [
      "+------+-------------+\n",
      "|depart|depart_bucket|\n",
      "+------+-------------+\n",
      "|  9.48|          3.0|\n",
      "| 16.33|          5.0|\n",
      "|  6.17|          2.0|\n",
      "| 10.33|          3.0|\n",
      "|  8.92|          2.0|\n",
      "+------+-------------+\n",
      "only showing top 5 rows\n",
      "\n",
      "+------+-------------+-------------+\n",
      "|depart|depart_bucket| depart_dummy|\n",
      "+------+-------------+-------------+\n",
      "|  9.48|          3.0|(7,[3],[1.0])|\n",
      "| 16.33|          5.0|(7,[5],[1.0])|\n",
      "|  6.17|          2.0|(7,[2],[1.0])|\n",
      "| 10.33|          3.0|(7,[3],[1.0])|\n",
      "|  8.92|          2.0|(7,[2],[1.0])|\n",
      "+------+-------------+-------------+\n",
      "only showing top 5 rows\n",
      "\n"
     ]
    }
   ],
   "source": [
    "from pyspark.ml.feature import Bucketizer, OneHotEncoderEstimator\n",
    "\n",
    "# Create buckets at 3 hour intervals through the day\n",
    "buckets = Bucketizer(splits=[0, 3, 6, 9, 12, 15, 18, 21, 24], inputCol='depart', outputCol='depart_bucket')\n",
    "\n",
    "# Bucket the departure times\n",
    "bucketed = buckets.transform(flights)\n",
    "bucketed.select('depart', 'depart_bucket').show(5)\n",
    "\n",
    "# Create a one-hot encoder\n",
    "onehot = OneHotEncoderEstimator(inputCols=['depart_bucket'], outputCols=['depart_dummy'])\n",
    "\n",
    "# One-hot encode the bucketed departure times\n",
    "flights_onehot = onehot.fit(bucketed).transform(bucketed)\n",
    "flights_onehot.select('depart', 'depart_bucket', 'depart_dummy').show(5)"
   ]
  },
  {
   "cell_type": "markdown",
   "metadata": {},
   "source": [
    "## Flight duration model: Adding departure time\n",
    "\n",
    "Include the dummy variables in a regression model for flight duration.\n",
    "\n",
    "Put km, org_dummy and depart_dummy into features, where km is index 0, org_dummy runs from index 1 to 7 and depart_dummy from index 8 to 14."
   ]
  },
  {
   "cell_type": "code",
   "execution_count": 353,
   "metadata": {},
   "outputs": [],
   "source": [
    "#flights = flights_onehot\n",
    "#flights_stored.show(5)\n",
    "flights = flights_stored\n",
    "\n",
    "# Create buckets at 3 hour intervals through the day\n",
    "buckets = Bucketizer(splits=[0, 3, 6, 9, 12, 15, 18, 21, 24], inputCol='depart', outputCol='depart_bucket')\n",
    "bucketed = buckets.transform(flights)\n",
    "onehot = OneHotEncoderEstimator(inputCols=['depart_bucket'], outputCols=['depart_dummy'])\n",
    "\n",
    "# One-hot encode the bucketed departure times\n",
    "flights = onehot.fit(bucketed).transform(bucketed)\n",
    "#flights.show(5)\n",
    "\n",
    "\n",
    "# make org_dummy and km the features\n",
    "assembler = VectorAssembler(inputCols=['km','org_dummy','depart_dummy'], outputCol='features')\n",
    "\n",
    "flights = assembler.transform(flights)\n"
   ]
  },
  {
   "cell_type": "code",
   "execution_count": 354,
   "metadata": {},
   "outputs": [],
   "source": [
    "flights_train, flights_test = flights.randomSplit([0.8,0.2],seed=17)"
   ]
  },
  {
   "cell_type": "code",
   "execution_count": 355,
   "metadata": {},
   "outputs": [
    {
     "name": "stdout",
     "output_type": "stream",
     "text": [
      "10.424267279374\n",
      "-3.8800857990632043\n",
      "47.84550240132776\n"
     ]
    }
   ],
   "source": [
    "# Create a regression object and train on training data\n",
    "regression = LinearRegression(labelCol='duration').fit(flights_train)\n",
    "\n",
    "# Create predictions for the testing data\n",
    "predictions = regression.transform(flights_test)\n",
    "\n",
    "# Calculate the RMSE on testing data\n",
    "RegressionEvaluator(labelCol='duration').evaluate(predictions)\n",
    "\n",
    "# Average minutes on ground at OGG for flights departing between 21:00 and 24:00\n",
    "avg_eve_ogg = regression.intercept\n",
    "print(avg_eve_ogg)\n",
    "\n",
    "# Average minutes on ground at OGG for flights departing between 00:00 and 03:00\n",
    "avg_night_ogg = regression.intercept + regression.coefficients[8]\n",
    "print(avg_night_ogg)\n",
    "\n",
    "# Average minutes on ground at JFK for flights departing between 00:00 and 03:00\n",
    "avg_night_jfk = regression.intercept + regression.coefficients[3] + regression.coefficients[8]\n",
    "print(avg_night_jfk)"
   ]
  },
  {
   "cell_type": "markdown",
   "metadata": {},
   "source": [
    "Adding departure time resulted in smaller RMSE"
   ]
  },
  {
   "cell_type": "code",
   "execution_count": 356,
   "metadata": {},
   "outputs": [
    {
     "name": "stdout",
     "output_type": "stream",
     "text": [
      "+--------+------------------+\n",
      "|duration|prediction        |\n",
      "+--------+------------------+\n",
      "|135     |150.29002569090045|\n",
      "|120     |129.48581650315236|\n",
      "|160     |148.57484012682133|\n",
      "|275     |267.3117109619755 |\n",
      "|85      |85.85671736253809 |\n",
      "+--------+------------------+\n",
      "only showing top 5 rows\n",
      "\n"
     ]
    }
   ],
   "source": [
    "predictions.select('duration', 'prediction').show(5, False)"
   ]
  },
  {
   "cell_type": "markdown",
   "metadata": {},
   "source": [
    "## Flight duration model: Regularization\n",
    "\n",
    "More features will make the model more complicated and difficult to interpret.\n",
    "\n",
    "Include in the next model:\n",
    "\n",
    "    km\n",
    "    org (origin airport, one-hot encoded, 8 levels)\n",
    "    depart (departure time, binned in 3 hour intervals, one-hot encoded, 8 levels)\n",
    "    dow (departure day of week, one-hot encoded, 7 levels) and\n",
    "    mon (departure month, one-hot encoded, 12 levels).\n",
    "\n",
    "These have been assembled into the features column, which is a sparse representation of 32 columns (remember one-hot encoding produces a number of columns which is one fewer than the number of levels).\n",
    "\n",
    "The data are available as flights, randomly split into flights_train and flights_test. The object predictions is also available."
   ]
  },
  {
   "cell_type": "code",
   "execution_count": 357,
   "metadata": {},
   "outputs": [],
   "source": [
    "#flights = flights.drop('features')\n",
    "#flights.show()"
   ]
  },
  {
   "cell_type": "code",
   "execution_count": 358,
   "metadata": {},
   "outputs": [
    {
     "name": "stdout",
     "output_type": "stream",
     "text": [
      "+---+---+---+-------+------+---+------+--------+-----+------+-------+-------------+-------------+-------------+--------------------+\n",
      "|mon|dom|dow|carrier|flight|org|depart|duration|delay|    km|org_idx|    org_dummy|depart_bucket| depart_dummy|            features|\n",
      "+---+---+---+-------+------+---+------+--------+-----+------+-------+-------------+-------------+-------------+--------------------+\n",
      "| 11| 20|  6|     US|    19|JFK|  9.48|     351| null|3465.0|    2.0|(7,[2],[1.0])|          3.0|(7,[3],[1.0])|(15,[0,3,11],[346...|\n",
      "|  0| 22|  2|     UA|  1107|ORD| 16.33|      82|   30| 509.0|    0.0|(7,[0],[1.0])|          5.0|(7,[5],[1.0])|(15,[0,1,13],[509...|\n",
      "|  2| 20|  4|     UA|   226|SFO|  6.17|      82|   -8| 542.0|    1.0|(7,[1],[1.0])|          2.0|(7,[2],[1.0])|(15,[0,2,10],[542...|\n",
      "|  9| 13|  1|     AA|   419|ORD| 10.33|     195|   -5|1989.0|    0.0|(7,[0],[1.0])|          3.0|(7,[3],[1.0])|(15,[0,1,11],[198...|\n",
      "|  4|  2|  5|     AA|   325|ORD|  8.92|      65| null| 415.0|    0.0|(7,[0],[1.0])|          2.0|(7,[2],[1.0])|(15,[0,1,10],[415...|\n",
      "+---+---+---+-------+------+---+------+--------+-----+------+-------+-------------+-------------+-------------+--------------------+\n",
      "only showing top 5 rows\n",
      "\n"
     ]
    }
   ],
   "source": [
    "flights.show(5)"
   ]
  },
  {
   "cell_type": "code",
   "execution_count": 359,
   "metadata": {},
   "outputs": [],
   "source": [
    "# Create an indexer\n",
    "indexer = StringIndexer(inputCol='dow', outputCol='dow_idx')\n",
    "\n",
    "# Indexer identifies categories in the data\n",
    "indexer_model = indexer.fit(flights)\n",
    "\n",
    "# Indexer creates a new column with numeric index values\n",
    "flights = indexer_model.transform(flights)\n",
    "\n",
    "# Create an instance of the one hot encoder\n",
    "onehot = OneHotEncoderEstimator(inputCols=['dow_idx'], outputCols=['dow_dummy'])\n",
    "\n",
    "# Apply the one hot encoder to the flights data\n",
    "onehot = onehot.fit(flights)\n",
    "flights = onehot.transform(flights)\n",
    "\n",
    "indexer = StringIndexer(inputCol='mon', outputCol='mon_idx')\n",
    "indexer_model = indexer.fit(flights)\n",
    "flights = indexer_model.transform(flights)\n",
    "onehot = OneHotEncoderEstimator(inputCols=['mon_idx'], outputCols=['mon_dummy'])\n",
    "onehot = onehot.fit(flights)\n",
    "flights = onehot.transform(flights)\n",
    "\n",
    "flights = flights.drop('mon_idx','dow_idx','features')"
   ]
  },
  {
   "cell_type": "code",
   "execution_count": 360,
   "metadata": {},
   "outputs": [
    {
     "name": "stdout",
     "output_type": "stream",
     "text": [
      "+---+---+---+-------+------+---+------+--------+-----+------+-------+-------------+-------------+-------------+-------------+---------------+\n",
      "|mon|dom|dow|carrier|flight|org|depart|duration|delay|    km|org_idx|    org_dummy|depart_bucket| depart_dummy|    dow_dummy|      mon_dummy|\n",
      "+---+---+---+-------+------+---+------+--------+-----+------+-------+-------------+-------------+-------------+-------------+---------------+\n",
      "| 11| 20|  6|     US|    19|JFK|  9.48|     351| null|3465.0|    2.0|(7,[2],[1.0])|          3.0|(7,[3],[1.0])|    (6,[],[])| (11,[6],[1.0])|\n",
      "|  0| 22|  2|     UA|  1107|ORD| 16.33|      82|   30| 509.0|    0.0|(7,[0],[1.0])|          5.0|(7,[5],[1.0])|(6,[2],[1.0])| (11,[1],[1.0])|\n",
      "|  2| 20|  4|     UA|   226|SFO|  6.17|      82|   -8| 542.0|    1.0|(7,[1],[1.0])|          2.0|(7,[2],[1.0])|(6,[3],[1.0])| (11,[4],[1.0])|\n",
      "|  9| 13|  1|     AA|   419|ORD| 10.33|     195|   -5|1989.0|    0.0|(7,[0],[1.0])|          3.0|(7,[3],[1.0])|(6,[1],[1.0])|(11,[10],[1.0])|\n",
      "|  4|  2|  5|     AA|   325|ORD|  8.92|      65| null| 415.0|    0.0|(7,[0],[1.0])|          2.0|(7,[2],[1.0])|(6,[0],[1.0])| (11,[8],[1.0])|\n",
      "+---+---+---+-------+------+---+------+--------+-----+------+-------+-------------+-------------+-------------+-------------+---------------+\n",
      "only showing top 5 rows\n",
      "\n"
     ]
    }
   ],
   "source": [
    "flights.show(5)"
   ]
  },
  {
   "cell_type": "code",
   "execution_count": 361,
   "metadata": {},
   "outputs": [],
   "source": [
    "#make new features list\n",
    "# make org_dummy and km the features\n",
    "assembler = VectorAssembler(inputCols=['km','org_dummy','depart_dummy','dow_dummy','mon_dummy'], outputCol='features')\n",
    "\n",
    "flights = assembler.transform(flights)"
   ]
  },
  {
   "cell_type": "code",
   "execution_count": 362,
   "metadata": {},
   "outputs": [
    {
     "name": "stdout",
     "output_type": "stream",
     "text": [
      "+---+---+---+-------+------+---+------+--------+-----+------+-------+-------------+-------------+-------------+-------------+---------------+--------------------+\n",
      "|mon|dom|dow|carrier|flight|org|depart|duration|delay|    km|org_idx|    org_dummy|depart_bucket| depart_dummy|    dow_dummy|      mon_dummy|            features|\n",
      "+---+---+---+-------+------+---+------+--------+-----+------+-------+-------------+-------------+-------------+-------------+---------------+--------------------+\n",
      "| 11| 20|  6|     US|    19|JFK|  9.48|     351| null|3465.0|    2.0|(7,[2],[1.0])|          3.0|(7,[3],[1.0])|    (6,[],[])| (11,[6],[1.0])|(32,[0,3,11,27],[...|\n",
      "|  0| 22|  2|     UA|  1107|ORD| 16.33|      82|   30| 509.0|    0.0|(7,[0],[1.0])|          5.0|(7,[5],[1.0])|(6,[2],[1.0])| (11,[1],[1.0])|(32,[0,1,13,17,22...|\n",
      "|  2| 20|  4|     UA|   226|SFO|  6.17|      82|   -8| 542.0|    1.0|(7,[1],[1.0])|          2.0|(7,[2],[1.0])|(6,[3],[1.0])| (11,[4],[1.0])|(32,[0,2,10,18,25...|\n",
      "|  9| 13|  1|     AA|   419|ORD| 10.33|     195|   -5|1989.0|    0.0|(7,[0],[1.0])|          3.0|(7,[3],[1.0])|(6,[1],[1.0])|(11,[10],[1.0])|(32,[0,1,11,16,31...|\n",
      "|  4|  2|  5|     AA|   325|ORD|  8.92|      65| null| 415.0|    0.0|(7,[0],[1.0])|          2.0|(7,[2],[1.0])|(6,[0],[1.0])| (11,[8],[1.0])|(32,[0,1,10,15,29...|\n",
      "+---+---+---+-------+------+---+------+--------+-----+------+-------+-------------+-------------+-------------+-------------+---------------+--------------------+\n",
      "only showing top 5 rows\n",
      "\n"
     ]
    }
   ],
   "source": [
    "flights.show(5)"
   ]
  },
  {
   "cell_type": "code",
   "execution_count": 365,
   "metadata": {},
   "outputs": [
    {
     "name": "stdout",
     "output_type": "stream",
     "text": [
      "+--------------------------------------------+\n",
      "|features                                    |\n",
      "+--------------------------------------------+\n",
      "|(32,[0,3,11,27],[3465.0,1.0,1.0,1.0])       |\n",
      "|(32,[0,1,13,17,22],[509.0,1.0,1.0,1.0,1.0]) |\n",
      "|(32,[0,2,10,18,25],[542.0,1.0,1.0,1.0,1.0]) |\n",
      "|(32,[0,1,11,16,31],[1989.0,1.0,1.0,1.0,1.0])|\n",
      "|(32,[0,1,10,15,29],[415.0,1.0,1.0,1.0,1.0]) |\n",
      "+--------------------------------------------+\n",
      "only showing top 5 rows\n",
      "\n"
     ]
    }
   ],
   "source": [
    "flights.select('features').show(5,truncate=False)"
   ]
  },
  {
   "cell_type": "code",
   "execution_count": 366,
   "metadata": {},
   "outputs": [],
   "source": [
    "flights_train, flights_test = flights.randomSplit([0.8,0.2],seed=17)"
   ]
  },
  {
   "cell_type": "code",
   "execution_count": 371,
   "metadata": {},
   "outputs": [
    {
     "name": "stdout",
     "output_type": "stream",
     "text": [
      "The test RMSE is 10.606545109500756\n",
      "\n",
      "\n",
      "[0.07439612871049665,27.159411218293794,20.010007367091102,51.75945116860125,45.72336548770983,17.44795681766783,14.962858899771346,17.1106892046316,-14.680435731520726,2.387687080155746,4.039941072205227,6.950825833824756,4.612768532620685,8.839164315549944,8.693816938676932,0.003971629408195554,-0.05855515105425649,-0.32944667683343165,0.07127937393444782,0.26921576598471947,0.09468122491776833,-3.480694045524389,-1.531330936233792,-3.7185459131066634,-1.6568311712213777,-1.5924189448573478,-3.6787427012342597,0.8425869541367698,-2.795911328844872,-3.5786185552697285,-3.38972772264376,-2.221182955823689]\n"
     ]
    }
   ],
   "source": [
    "regression = LinearRegression(labelCol='duration').fit(flights_train)\n",
    "\n",
    "predictions = regression.transform(flights_test)\n",
    "\n",
    "rmse = RegressionEvaluator(labelCol='duration').evaluate(predictions)\n",
    "\n",
    "print(\"The test RMSE is\", rmse)\n",
    "\n",
    "print(\"\\n\")\n",
    "coeffs = regression.coefficients\n",
    "print(coeffs)"
   ]
  },
  {
   "cell_type": "markdown",
   "metadata": {},
   "source": [
    "### Use Lasso regression (regularized with a L1 penalty) to create a more simple model"
   ]
  },
  {
   "cell_type": "code",
   "execution_count": 379,
   "metadata": {},
   "outputs": [
    {
     "name": "stdout",
     "output_type": "stream",
     "text": [
      "The test RMSE is 11.545792028112292\n",
      "[0.07350293358100364,5.5828598433558785,0.0,29.09802852173182,22.009764588838063,0.0,-2.2061697985886166,0.0,0.0,0.0,0.0,0.0,0.0,1.117227868678856,1.0815190301505242,0.0,0.0,0.0,0.0,0.0,0.0,0.0,0.0,0.0,0.0,0.0,0.0,0.0,0.0,0.0,0.0,0.0]\n",
      "Number of coefficients equal to 0: 25\n"
     ]
    }
   ],
   "source": [
    "# Fit Lasso model (α = 1) to training data\n",
    "regression = LinearRegression(labelCol='duration', regParam=1,elasticNetParam=1).fit(flights_train)\n",
    "\n",
    "# Calculate the RMSE on testing data\n",
    "rmse = RegressionEvaluator(labelCol='duration').evaluate(regression.transform(flights_test))\n",
    "print(\"The test RMSE is\", rmse)\n",
    "\n",
    "coeffs = regression.coefficients\n",
    "print(coeffs)\n",
    "\n",
    "# Number of zero coefficients\n",
    "zero_coeff = sum([beta==0 for beta in regression.coefficients])\n",
    "print(\"Number of coefficients equal to 0:\", zero_coeff)"
   ]
  },
  {
   "cell_type": "markdown",
   "metadata": {},
   "source": [
    "Regularisation produced a far simpler model with similar test performance."
   ]
  },
  {
   "cell_type": "code",
   "execution_count": null,
   "metadata": {},
   "outputs": [],
   "source": []
  }
 ],
 "metadata": {
  "kernelspec": {
   "display_name": "Python 3",
   "language": "python",
   "name": "python3"
  },
  "language_info": {
   "codemirror_mode": {
    "name": "ipython",
    "version": 3
   },
   "file_extension": ".py",
   "mimetype": "text/x-python",
   "name": "python",
   "nbconvert_exporter": "python",
   "pygments_lexer": "ipython3",
   "version": "3.6.8"
  }
 },
 "nbformat": 4,
 "nbformat_minor": 2
}
